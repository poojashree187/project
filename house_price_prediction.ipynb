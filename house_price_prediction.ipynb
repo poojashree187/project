{
 "cells": [
  {
   "cell_type": "code",
   "execution_count": 5,
   "metadata": {},
   "outputs": [],
   "source": [
    "import pandas as pd"
   ]
  },
  {
   "cell_type": "code",
   "execution_count": 6,
   "metadata": {},
   "outputs": [],
   "source": [
    "df= pd.read_csv('train_house.csv')"
   ]
  },
  {
   "cell_type": "code",
   "execution_count": 7,
   "metadata": {},
   "outputs": [],
   "source": [
    "df_test = pd.read_csv('test_house.csv')"
   ]
  },
  {
   "cell_type": "code",
   "execution_count": 8,
   "metadata": {},
   "outputs": [
    {
     "data": {
      "text/plain": [
       "(1168, 81)"
      ]
     },
     "execution_count": 8,
     "metadata": {},
     "output_type": "execute_result"
    }
   ],
   "source": [
    "df.shape"
   ]
  },
  {
   "cell_type": "raw",
   "metadata": {},
   "source": [
    "The dataset has bith numerical and categorical data.\n",
    "The target variable is SalePrice\n",
    "There are 1168 entries with 81 features."
   ]
  },
  {
   "cell_type": "code",
   "execution_count": 9,
   "metadata": {},
   "outputs": [
    {
     "data": {
      "text/plain": [
       "(292, 80)"
      ]
     },
     "execution_count": 9,
     "metadata": {},
     "output_type": "execute_result"
    }
   ],
   "source": [
    "df_test.shape"
   ]
  },
  {
   "cell_type": "raw",
   "metadata": {},
   "source": [
    "There are 292 entreies in test data"
   ]
  },
  {
   "cell_type": "code",
   "execution_count": 62,
   "metadata": {},
   "outputs": [
    {
     "name": "stdout",
     "output_type": "stream",
     "text": [
      "<class 'pandas.core.frame.DataFrame'>\n",
      "RangeIndex: 1168 entries, 0 to 1167\n",
      "Data columns (total 81 columns):\n",
      " #   Column         Non-Null Count  Dtype  \n",
      "---  ------         --------------  -----  \n",
      " 0   Id             1168 non-null   int64  \n",
      " 1   MSSubClass     1168 non-null   int64  \n",
      " 2   MSZoning       1168 non-null   object \n",
      " 3   LotFrontage    954 non-null    float64\n",
      " 4   LotArea        1168 non-null   int64  \n",
      " 5   Street         1168 non-null   object \n",
      " 6   Alley          77 non-null     object \n",
      " 7   LotShape       1168 non-null   object \n",
      " 8   LandContour    1168 non-null   object \n",
      " 9   Utilities      1168 non-null   object \n",
      " 10  LotConfig      1168 non-null   object \n",
      " 11  LandSlope      1168 non-null   object \n",
      " 12  Neighborhood   1168 non-null   object \n",
      " 13  Condition1     1168 non-null   object \n",
      " 14  Condition2     1168 non-null   object \n",
      " 15  BldgType       1168 non-null   object \n",
      " 16  HouseStyle     1168 non-null   object \n",
      " 17  OverallQual    1168 non-null   int64  \n",
      " 18  OverallCond    1168 non-null   int64  \n",
      " 19  YearBuilt      1168 non-null   int64  \n",
      " 20  YearRemodAdd   1168 non-null   int64  \n",
      " 21  RoofStyle      1168 non-null   object \n",
      " 22  RoofMatl       1168 non-null   object \n",
      " 23  Exterior1st    1168 non-null   object \n",
      " 24  Exterior2nd    1168 non-null   object \n",
      " 25  MasVnrType     1161 non-null   object \n",
      " 26  MasVnrArea     1161 non-null   float64\n",
      " 27  ExterQual      1168 non-null   object \n",
      " 28  ExterCond      1168 non-null   object \n",
      " 29  Foundation     1168 non-null   object \n",
      " 30  BsmtQual       1138 non-null   object \n",
      " 31  BsmtCond       1138 non-null   object \n",
      " 32  BsmtExposure   1137 non-null   object \n",
      " 33  BsmtFinType1   1138 non-null   object \n",
      " 34  BsmtFinSF1     1168 non-null   int64  \n",
      " 35  BsmtFinType2   1137 non-null   object \n",
      " 36  BsmtFinSF2     1168 non-null   int64  \n",
      " 37  BsmtUnfSF      1168 non-null   int64  \n",
      " 38  TotalBsmtSF    1168 non-null   int64  \n",
      " 39  Heating        1168 non-null   object \n",
      " 40  HeatingQC      1168 non-null   object \n",
      " 41  CentralAir     1168 non-null   object \n",
      " 42  Electrical     1168 non-null   object \n",
      " 43  1stFlrSF       1168 non-null   int64  \n",
      " 44  2ndFlrSF       1168 non-null   int64  \n",
      " 45  LowQualFinSF   1168 non-null   int64  \n",
      " 46  GrLivArea      1168 non-null   int64  \n",
      " 47  BsmtFullBath   1168 non-null   int64  \n",
      " 48  BsmtHalfBath   1168 non-null   int64  \n",
      " 49  FullBath       1168 non-null   int64  \n",
      " 50  HalfBath       1168 non-null   int64  \n",
      " 51  BedroomAbvGr   1168 non-null   int64  \n",
      " 52  KitchenAbvGr   1168 non-null   int64  \n",
      " 53  KitchenQual    1168 non-null   object \n",
      " 54  TotRmsAbvGrd   1168 non-null   int64  \n",
      " 55  Functional     1168 non-null   object \n",
      " 56  Fireplaces     1168 non-null   int64  \n",
      " 57  FireplaceQu    617 non-null    object \n",
      " 58  GarageType     1104 non-null   object \n",
      " 59  GarageYrBlt    1104 non-null   float64\n",
      " 60  GarageFinish   1104 non-null   object \n",
      " 61  GarageCars     1168 non-null   int64  \n",
      " 62  GarageArea     1168 non-null   int64  \n",
      " 63  GarageQual     1104 non-null   object \n",
      " 64  GarageCond     1104 non-null   object \n",
      " 65  PavedDrive     1168 non-null   object \n",
      " 66  WoodDeckSF     1168 non-null   int64  \n",
      " 67  OpenPorchSF    1168 non-null   int64  \n",
      " 68  EnclosedPorch  1168 non-null   int64  \n",
      " 69  3SsnPorch      1168 non-null   int64  \n",
      " 70  ScreenPorch    1168 non-null   int64  \n",
      " 71  PoolArea       1168 non-null   int64  \n",
      " 72  PoolQC         7 non-null      object \n",
      " 73  Fence          237 non-null    object \n",
      " 74  MiscFeature    44 non-null     object \n",
      " 75  MiscVal        1168 non-null   int64  \n",
      " 76  MoSold         1168 non-null   int64  \n",
      " 77  YrSold         1168 non-null   int64  \n",
      " 78  SaleType       1168 non-null   object \n",
      " 79  SaleCondition  1168 non-null   object \n",
      " 80  SalePrice      1168 non-null   int64  \n",
      "dtypes: float64(3), int64(35), object(43)\n",
      "memory usage: 739.2+ KB\n"
     ]
    }
   ],
   "source": [
    "df.info()"
   ]
  },
  {
   "cell_type": "markdown",
   "metadata": {},
   "source": [
    "There are no columns that have been assigned incorrect datatypes"
   ]
  },
  {
   "cell_type": "code",
   "execution_count": 10,
   "metadata": {},
   "outputs": [
    {
     "data": {
      "text/html": [
       "<div>\n",
       "<style scoped>\n",
       "    .dataframe tbody tr th:only-of-type {\n",
       "        vertical-align: middle;\n",
       "    }\n",
       "\n",
       "    .dataframe tbody tr th {\n",
       "        vertical-align: top;\n",
       "    }\n",
       "\n",
       "    .dataframe thead th {\n",
       "        text-align: right;\n",
       "    }\n",
       "</style>\n",
       "<table border=\"1\" class=\"dataframe\">\n",
       "  <thead>\n",
       "    <tr style=\"text-align: right;\">\n",
       "      <th></th>\n",
       "      <th>Id</th>\n",
       "      <th>MSSubClass</th>\n",
       "      <th>MSZoning</th>\n",
       "      <th>LotFrontage</th>\n",
       "      <th>LotArea</th>\n",
       "      <th>Street</th>\n",
       "      <th>Alley</th>\n",
       "      <th>LotShape</th>\n",
       "      <th>LandContour</th>\n",
       "      <th>Utilities</th>\n",
       "      <th>...</th>\n",
       "      <th>PoolArea</th>\n",
       "      <th>PoolQC</th>\n",
       "      <th>Fence</th>\n",
       "      <th>MiscFeature</th>\n",
       "      <th>MiscVal</th>\n",
       "      <th>MoSold</th>\n",
       "      <th>YrSold</th>\n",
       "      <th>SaleType</th>\n",
       "      <th>SaleCondition</th>\n",
       "      <th>SalePrice</th>\n",
       "    </tr>\n",
       "  </thead>\n",
       "  <tbody>\n",
       "    <tr>\n",
       "      <th>0</th>\n",
       "      <td>False</td>\n",
       "      <td>False</td>\n",
       "      <td>False</td>\n",
       "      <td>True</td>\n",
       "      <td>False</td>\n",
       "      <td>False</td>\n",
       "      <td>True</td>\n",
       "      <td>False</td>\n",
       "      <td>False</td>\n",
       "      <td>False</td>\n",
       "      <td>...</td>\n",
       "      <td>False</td>\n",
       "      <td>True</td>\n",
       "      <td>True</td>\n",
       "      <td>True</td>\n",
       "      <td>False</td>\n",
       "      <td>False</td>\n",
       "      <td>False</td>\n",
       "      <td>False</td>\n",
       "      <td>False</td>\n",
       "      <td>False</td>\n",
       "    </tr>\n",
       "    <tr>\n",
       "      <th>1</th>\n",
       "      <td>False</td>\n",
       "      <td>False</td>\n",
       "      <td>False</td>\n",
       "      <td>False</td>\n",
       "      <td>False</td>\n",
       "      <td>False</td>\n",
       "      <td>True</td>\n",
       "      <td>False</td>\n",
       "      <td>False</td>\n",
       "      <td>False</td>\n",
       "      <td>...</td>\n",
       "      <td>False</td>\n",
       "      <td>True</td>\n",
       "      <td>True</td>\n",
       "      <td>True</td>\n",
       "      <td>False</td>\n",
       "      <td>False</td>\n",
       "      <td>False</td>\n",
       "      <td>False</td>\n",
       "      <td>False</td>\n",
       "      <td>False</td>\n",
       "    </tr>\n",
       "    <tr>\n",
       "      <th>2</th>\n",
       "      <td>False</td>\n",
       "      <td>False</td>\n",
       "      <td>False</td>\n",
       "      <td>False</td>\n",
       "      <td>False</td>\n",
       "      <td>False</td>\n",
       "      <td>True</td>\n",
       "      <td>False</td>\n",
       "      <td>False</td>\n",
       "      <td>False</td>\n",
       "      <td>...</td>\n",
       "      <td>False</td>\n",
       "      <td>True</td>\n",
       "      <td>True</td>\n",
       "      <td>True</td>\n",
       "      <td>False</td>\n",
       "      <td>False</td>\n",
       "      <td>False</td>\n",
       "      <td>False</td>\n",
       "      <td>False</td>\n",
       "      <td>False</td>\n",
       "    </tr>\n",
       "    <tr>\n",
       "      <th>3</th>\n",
       "      <td>False</td>\n",
       "      <td>False</td>\n",
       "      <td>False</td>\n",
       "      <td>False</td>\n",
       "      <td>False</td>\n",
       "      <td>False</td>\n",
       "      <td>True</td>\n",
       "      <td>False</td>\n",
       "      <td>False</td>\n",
       "      <td>False</td>\n",
       "      <td>...</td>\n",
       "      <td>False</td>\n",
       "      <td>True</td>\n",
       "      <td>False</td>\n",
       "      <td>True</td>\n",
       "      <td>False</td>\n",
       "      <td>False</td>\n",
       "      <td>False</td>\n",
       "      <td>False</td>\n",
       "      <td>False</td>\n",
       "      <td>False</td>\n",
       "    </tr>\n",
       "    <tr>\n",
       "      <th>4</th>\n",
       "      <td>False</td>\n",
       "      <td>False</td>\n",
       "      <td>False</td>\n",
       "      <td>True</td>\n",
       "      <td>False</td>\n",
       "      <td>False</td>\n",
       "      <td>True</td>\n",
       "      <td>False</td>\n",
       "      <td>False</td>\n",
       "      <td>False</td>\n",
       "      <td>...</td>\n",
       "      <td>False</td>\n",
       "      <td>True</td>\n",
       "      <td>True</td>\n",
       "      <td>True</td>\n",
       "      <td>False</td>\n",
       "      <td>False</td>\n",
       "      <td>False</td>\n",
       "      <td>False</td>\n",
       "      <td>False</td>\n",
       "      <td>False</td>\n",
       "    </tr>\n",
       "    <tr>\n",
       "      <th>...</th>\n",
       "      <td>...</td>\n",
       "      <td>...</td>\n",
       "      <td>...</td>\n",
       "      <td>...</td>\n",
       "      <td>...</td>\n",
       "      <td>...</td>\n",
       "      <td>...</td>\n",
       "      <td>...</td>\n",
       "      <td>...</td>\n",
       "      <td>...</td>\n",
       "      <td>...</td>\n",
       "      <td>...</td>\n",
       "      <td>...</td>\n",
       "      <td>...</td>\n",
       "      <td>...</td>\n",
       "      <td>...</td>\n",
       "      <td>...</td>\n",
       "      <td>...</td>\n",
       "      <td>...</td>\n",
       "      <td>...</td>\n",
       "      <td>...</td>\n",
       "    </tr>\n",
       "    <tr>\n",
       "      <th>1163</th>\n",
       "      <td>False</td>\n",
       "      <td>False</td>\n",
       "      <td>False</td>\n",
       "      <td>True</td>\n",
       "      <td>False</td>\n",
       "      <td>False</td>\n",
       "      <td>True</td>\n",
       "      <td>False</td>\n",
       "      <td>False</td>\n",
       "      <td>False</td>\n",
       "      <td>...</td>\n",
       "      <td>False</td>\n",
       "      <td>True</td>\n",
       "      <td>False</td>\n",
       "      <td>True</td>\n",
       "      <td>False</td>\n",
       "      <td>False</td>\n",
       "      <td>False</td>\n",
       "      <td>False</td>\n",
       "      <td>False</td>\n",
       "      <td>False</td>\n",
       "    </tr>\n",
       "    <tr>\n",
       "      <th>1164</th>\n",
       "      <td>False</td>\n",
       "      <td>False</td>\n",
       "      <td>False</td>\n",
       "      <td>False</td>\n",
       "      <td>False</td>\n",
       "      <td>False</td>\n",
       "      <td>True</td>\n",
       "      <td>False</td>\n",
       "      <td>False</td>\n",
       "      <td>False</td>\n",
       "      <td>...</td>\n",
       "      <td>False</td>\n",
       "      <td>True</td>\n",
       "      <td>False</td>\n",
       "      <td>True</td>\n",
       "      <td>False</td>\n",
       "      <td>False</td>\n",
       "      <td>False</td>\n",
       "      <td>False</td>\n",
       "      <td>False</td>\n",
       "      <td>False</td>\n",
       "    </tr>\n",
       "    <tr>\n",
       "      <th>1165</th>\n",
       "      <td>False</td>\n",
       "      <td>False</td>\n",
       "      <td>False</td>\n",
       "      <td>False</td>\n",
       "      <td>False</td>\n",
       "      <td>False</td>\n",
       "      <td>True</td>\n",
       "      <td>False</td>\n",
       "      <td>False</td>\n",
       "      <td>False</td>\n",
       "      <td>...</td>\n",
       "      <td>False</td>\n",
       "      <td>True</td>\n",
       "      <td>True</td>\n",
       "      <td>True</td>\n",
       "      <td>False</td>\n",
       "      <td>False</td>\n",
       "      <td>False</td>\n",
       "      <td>False</td>\n",
       "      <td>False</td>\n",
       "      <td>False</td>\n",
       "    </tr>\n",
       "    <tr>\n",
       "      <th>1166</th>\n",
       "      <td>False</td>\n",
       "      <td>False</td>\n",
       "      <td>False</td>\n",
       "      <td>False</td>\n",
       "      <td>False</td>\n",
       "      <td>False</td>\n",
       "      <td>False</td>\n",
       "      <td>False</td>\n",
       "      <td>False</td>\n",
       "      <td>False</td>\n",
       "      <td>...</td>\n",
       "      <td>False</td>\n",
       "      <td>True</td>\n",
       "      <td>False</td>\n",
       "      <td>True</td>\n",
       "      <td>False</td>\n",
       "      <td>False</td>\n",
       "      <td>False</td>\n",
       "      <td>False</td>\n",
       "      <td>False</td>\n",
       "      <td>False</td>\n",
       "    </tr>\n",
       "    <tr>\n",
       "      <th>1167</th>\n",
       "      <td>False</td>\n",
       "      <td>False</td>\n",
       "      <td>False</td>\n",
       "      <td>True</td>\n",
       "      <td>False</td>\n",
       "      <td>False</td>\n",
       "      <td>True</td>\n",
       "      <td>False</td>\n",
       "      <td>False</td>\n",
       "      <td>False</td>\n",
       "      <td>...</td>\n",
       "      <td>False</td>\n",
       "      <td>True</td>\n",
       "      <td>True</td>\n",
       "      <td>True</td>\n",
       "      <td>False</td>\n",
       "      <td>False</td>\n",
       "      <td>False</td>\n",
       "      <td>False</td>\n",
       "      <td>False</td>\n",
       "      <td>False</td>\n",
       "    </tr>\n",
       "  </tbody>\n",
       "</table>\n",
       "<p>1168 rows × 81 columns</p>\n",
       "</div>"
      ],
      "text/plain": [
       "         Id  MSSubClass  MSZoning  LotFrontage  LotArea  Street  Alley  \\\n",
       "0     False       False     False         True    False   False   True   \n",
       "1     False       False     False        False    False   False   True   \n",
       "2     False       False     False        False    False   False   True   \n",
       "3     False       False     False        False    False   False   True   \n",
       "4     False       False     False         True    False   False   True   \n",
       "...     ...         ...       ...          ...      ...     ...    ...   \n",
       "1163  False       False     False         True    False   False   True   \n",
       "1164  False       False     False        False    False   False   True   \n",
       "1165  False       False     False        False    False   False   True   \n",
       "1166  False       False     False        False    False   False  False   \n",
       "1167  False       False     False         True    False   False   True   \n",
       "\n",
       "      LotShape  LandContour  Utilities  ...  PoolArea  PoolQC  Fence  \\\n",
       "0        False        False      False  ...     False    True   True   \n",
       "1        False        False      False  ...     False    True   True   \n",
       "2        False        False      False  ...     False    True   True   \n",
       "3        False        False      False  ...     False    True  False   \n",
       "4        False        False      False  ...     False    True   True   \n",
       "...        ...          ...        ...  ...       ...     ...    ...   \n",
       "1163     False        False      False  ...     False    True  False   \n",
       "1164     False        False      False  ...     False    True  False   \n",
       "1165     False        False      False  ...     False    True   True   \n",
       "1166     False        False      False  ...     False    True  False   \n",
       "1167     False        False      False  ...     False    True   True   \n",
       "\n",
       "      MiscFeature  MiscVal  MoSold  YrSold  SaleType  SaleCondition  SalePrice  \n",
       "0            True    False   False   False     False          False      False  \n",
       "1            True    False   False   False     False          False      False  \n",
       "2            True    False   False   False     False          False      False  \n",
       "3            True    False   False   False     False          False      False  \n",
       "4            True    False   False   False     False          False      False  \n",
       "...           ...      ...     ...     ...       ...            ...        ...  \n",
       "1163         True    False   False   False     False          False      False  \n",
       "1164         True    False   False   False     False          False      False  \n",
       "1165         True    False   False   False     False          False      False  \n",
       "1166         True    False   False   False     False          False      False  \n",
       "1167         True    False   False   False     False          False      False  \n",
       "\n",
       "[1168 rows x 81 columns]"
      ]
     },
     "execution_count": 10,
     "metadata": {},
     "output_type": "execute_result"
    }
   ],
   "source": [
    "df.isna()"
   ]
  },
  {
   "cell_type": "code",
   "execution_count": 11,
   "metadata": {},
   "outputs": [],
   "source": [
    "pd.set_option('display.max_columns',None)\n",
    "pd.set_option('display.max_rows',None)"
   ]
  },
  {
   "cell_type": "code",
   "execution_count": 65,
   "metadata": {},
   "outputs": [
    {
     "data": {
      "text/plain": [
       "63"
      ]
     },
     "execution_count": 65,
     "metadata": {},
     "output_type": "execute_result"
    }
   ],
   "source": [
    "81-sum(df.isna().any())"
   ]
  },
  {
   "cell_type": "code",
   "execution_count": 66,
   "metadata": {},
   "outputs": [],
   "source": [
    "list_obj_col= list(df.select_dtypes(include ='object').columns)"
   ]
  },
  {
   "cell_type": "code",
   "execution_count": 67,
   "metadata": {},
   "outputs": [
    {
     "data": {
      "text/plain": [
       "['MSZoning',\n",
       " 'Street',\n",
       " 'Alley',\n",
       " 'LotShape',\n",
       " 'LandContour',\n",
       " 'Utilities',\n",
       " 'LotConfig',\n",
       " 'LandSlope',\n",
       " 'Neighborhood',\n",
       " 'Condition1',\n",
       " 'Condition2',\n",
       " 'BldgType',\n",
       " 'HouseStyle',\n",
       " 'RoofStyle',\n",
       " 'RoofMatl',\n",
       " 'Exterior1st',\n",
       " 'Exterior2nd',\n",
       " 'MasVnrType',\n",
       " 'ExterQual',\n",
       " 'ExterCond',\n",
       " 'Foundation',\n",
       " 'BsmtQual',\n",
       " 'BsmtCond',\n",
       " 'BsmtExposure',\n",
       " 'BsmtFinType1',\n",
       " 'BsmtFinType2',\n",
       " 'Heating',\n",
       " 'HeatingQC',\n",
       " 'CentralAir',\n",
       " 'Electrical',\n",
       " 'KitchenQual',\n",
       " 'Functional',\n",
       " 'FireplaceQu',\n",
       " 'GarageType',\n",
       " 'GarageFinish',\n",
       " 'GarageQual',\n",
       " 'GarageCond',\n",
       " 'PavedDrive',\n",
       " 'PoolQC',\n",
       " 'Fence',\n",
       " 'MiscFeature',\n",
       " 'SaleType',\n",
       " 'SaleCondition']"
      ]
     },
     "execution_count": 67,
     "metadata": {},
     "output_type": "execute_result"
    }
   ],
   "source": [
    "list_obj_col"
   ]
  },
  {
   "cell_type": "code",
   "execution_count": 68,
   "metadata": {},
   "outputs": [],
   "source": [
    "list_num_col = list(df.select_dtypes(exclude='object').columns)"
   ]
  },
  {
   "cell_type": "code",
   "execution_count": 69,
   "metadata": {},
   "outputs": [
    {
     "data": {
      "text/plain": [
       "['Id',\n",
       " 'MSSubClass',\n",
       " 'LotFrontage',\n",
       " 'LotArea',\n",
       " 'OverallQual',\n",
       " 'OverallCond',\n",
       " 'YearBuilt',\n",
       " 'YearRemodAdd',\n",
       " 'MasVnrArea',\n",
       " 'BsmtFinSF1',\n",
       " 'BsmtFinSF2',\n",
       " 'BsmtUnfSF',\n",
       " 'TotalBsmtSF',\n",
       " '1stFlrSF',\n",
       " '2ndFlrSF',\n",
       " 'LowQualFinSF',\n",
       " 'GrLivArea',\n",
       " 'BsmtFullBath',\n",
       " 'BsmtHalfBath',\n",
       " 'FullBath',\n",
       " 'HalfBath',\n",
       " 'BedroomAbvGr',\n",
       " 'KitchenAbvGr',\n",
       " 'TotRmsAbvGrd',\n",
       " 'Fireplaces',\n",
       " 'GarageYrBlt',\n",
       " 'GarageCars',\n",
       " 'GarageArea',\n",
       " 'WoodDeckSF',\n",
       " 'OpenPorchSF',\n",
       " 'EnclosedPorch',\n",
       " '3SsnPorch',\n",
       " 'ScreenPorch',\n",
       " 'PoolArea',\n",
       " 'MiscVal',\n",
       " 'MoSold',\n",
       " 'YrSold',\n",
       " 'SalePrice']"
      ]
     },
     "execution_count": 69,
     "metadata": {},
     "output_type": "execute_result"
    }
   ],
   "source": [
    "list_num_col"
   ]
  },
  {
   "cell_type": "code",
   "execution_count": 70,
   "metadata": {},
   "outputs": [
    {
     "data": {
      "text/plain": [
       "38"
      ]
     },
     "execution_count": 70,
     "metadata": {},
     "output_type": "execute_result"
    }
   ],
   "source": [
    "len(list_num_col)"
   ]
  },
  {
   "cell_type": "code",
   "execution_count": 71,
   "metadata": {},
   "outputs": [
    {
     "data": {
      "text/plain": [
       "43"
      ]
     },
     "execution_count": 71,
     "metadata": {},
     "output_type": "execute_result"
    }
   ],
   "source": [
    "len(list_obj_col)"
   ]
  },
  {
   "cell_type": "code",
   "execution_count": 72,
   "metadata": {},
   "outputs": [
    {
     "name": "stdout",
     "output_type": "stream",
     "text": [
      "MSZoning : 5\n",
      "Street : 2\n",
      "Alley : 2\n",
      "LotShape : 4\n",
      "LandContour : 4\n",
      "Utilities : 1\n",
      "LotConfig : 5\n",
      "LandSlope : 3\n",
      "Neighborhood : 25\n",
      "Condition1 : 9\n",
      "Condition2 : 8\n",
      "BldgType : 5\n",
      "HouseStyle : 8\n",
      "RoofStyle : 6\n",
      "RoofMatl : 8\n",
      "Exterior1st : 14\n",
      "Exterior2nd : 15\n",
      "MasVnrType : 4\n",
      "ExterQual : 4\n",
      "ExterCond : 5\n",
      "Foundation : 6\n",
      "BsmtQual : 4\n",
      "BsmtCond : 4\n",
      "BsmtExposure : 4\n",
      "BsmtFinType1 : 6\n",
      "BsmtFinType2 : 6\n",
      "Heating : 6\n",
      "HeatingQC : 5\n",
      "CentralAir : 2\n",
      "Electrical : 5\n",
      "KitchenQual : 4\n",
      "Functional : 7\n",
      "FireplaceQu : 5\n",
      "GarageType : 6\n",
      "GarageFinish : 3\n",
      "GarageQual : 5\n",
      "GarageCond : 5\n",
      "PavedDrive : 3\n",
      "PoolQC : 3\n",
      "Fence : 4\n",
      "MiscFeature : 4\n",
      "SaleType : 9\n",
      "SaleCondition : 6\n"
     ]
    }
   ],
   "source": [
    "for col in list_obj_col:\n",
    "    print(col, ':',df[col].nunique())"
   ]
  },
  {
   "cell_type": "code",
   "execution_count": 73,
   "metadata": {},
   "outputs": [],
   "source": [
    "import matplotlib.pyplot as plt"
   ]
  },
  {
   "cell_type": "code",
   "execution_count": 74,
   "metadata": {},
   "outputs": [],
   "source": [
    "import seaborn as sns"
   ]
  },
  {
   "cell_type": "code",
   "execution_count": 75,
   "metadata": {},
   "outputs": [
    {
     "data": {
      "image/png": "[encoded data removed]",
      "text/plain": [
       "<Figure size 1440x432 with 2 Axes>"
      ]
     },
     "metadata": {
      "needs_background": "light"
     },
     "output_type": "display_data"
    }
   ],
   "source": [
    "#null values in training set\n",
    "plt.figure(figsize = (20,6))\n",
    "plt.title(\"Null values in train\")\n",
    "sns.heatmap(df.isnull())\n",
    "plt.show()"
   ]
  },
  {
   "cell_type": "code",
   "execution_count": 76,
   "metadata": {},
   "outputs": [],
   "source": [
    "import numpy as np"
   ]
  },
  {
   "cell_type": "code",
   "execution_count": 77,
   "metadata": {},
   "outputs": [
    {
     "name": "stdout",
     "output_type": "stream",
     "text": [
      "Alley: 0.934% missing values\n",
      "MasVnrType: 0.006% missing values\n",
      "BsmtQual: 0.026% missing values\n",
      "BsmtCond: 0.026% missing values\n",
      "BsmtExposure: 0.027% missing values\n",
      "BsmtFinType1: 0.026% missing values\n",
      "BsmtFinType2: 0.027% missing values\n",
      "FireplaceQu: 0.472% missing values\n",
      "GarageType: 0.055% missing values\n",
      "GarageFinish: 0.055% missing values\n",
      "GarageQual: 0.055% missing values\n",
      "GarageCond: 0.055% missing values\n",
      "PoolQC: 0.994% missing values\n",
      "Fence: 0.797% missing values\n",
      "MiscFeature: 0.962% missing values\n"
     ]
    }
   ],
   "source": [
    "df_nan = [i for i in df.columns if df[i].isnull().sum()>1 and df[i].dtypes == 'object']\n",
    "for i in df_nan:\n",
    "    print(\"{}: {}% missing values\".format(i,np.round(df[i].isnull().mean(),3)))\n"
   ]
  },
  {
   "cell_type": "code",
   "execution_count": 78,
   "metadata": {},
   "outputs": [
    {
     "name": "stdout",
     "output_type": "stream",
     "text": [
      "Alley: 0.934% is missing\n",
      "MasVnrType: 0.006% is missing\n",
      "BsmtQual: 0.026% is missing\n",
      "BsmtCond: 0.026% is missing\n",
      "BsmtExposure: 0.027% is missing\n",
      "BsmtFinType1: 0.026% is missing\n",
      "BsmtFinType2: 0.027% is missing\n",
      "FireplaceQu: 0.472% is missing\n",
      "GarageType: 0.055% is missing\n",
      "GarageFinish: 0.055% is missing\n",
      "GarageQual: 0.055% is missing\n",
      "GarageCond: 0.055% is missing\n",
      "PoolQC: 0.994% is missing\n",
      "Fence: 0.797% is missing\n",
      "MiscFeature: 0.962% is missing\n"
     ]
    }
   ],
   "source": [
    "df_nan = [ i  for i in df.columns if df[i].isnull().sum()>1 and df[i].dtypes == 'object']\n",
    "for i in df_nan:\n",
    "    print(\"{}: {}% is missing\".format(i,np.round(df[i].isnull().mean(),3)))"
   ]
  },
  {
   "cell_type": "markdown",
   "metadata": {},
   "source": [
    "The columns alley, PoolQC, Fence and MiscFeature have high percentage of missing values.\n",
    "\n",
    "The categorical type of values are replaced by the missing.\n",
    "\n",
    "The numerical type of values are replaced by their median"
   ]
  },
  {
   "cell_type": "code",
   "execution_count": 79,
   "metadata": {},
   "outputs": [],
   "source": [
    "def categorical_nan(df,df_nan):\n",
    "    df_train = df.copy()\n",
    "    df_train[df_nan] = df_train[df_nan].fillna('No')\n",
    "    return df_train"
   ]
  },
  {
   "cell_type": "code",
   "execution_count": 80,
   "metadata": {},
   "outputs": [],
   "source": [
    "df = categorical_nan(df,df_nan)"
   ]
  },
  {
   "cell_type": "code",
   "execution_count": 81,
   "metadata": {},
   "outputs": [
    {
     "data": {
      "text/plain": [
       "Alley           0\n",
       "MasVnrType      0\n",
       "BsmtQual        0\n",
       "BsmtCond        0\n",
       "BsmtExposure    0\n",
       "BsmtFinType1    0\n",
       "BsmtFinType2    0\n",
       "FireplaceQu     0\n",
       "GarageType      0\n",
       "GarageFinish    0\n",
       "GarageQual      0\n",
       "GarageCond      0\n",
       "PoolQC          0\n",
       "Fence           0\n",
       "MiscFeature     0\n",
       "dtype: int64"
      ]
     },
     "execution_count": 81,
     "metadata": {},
     "output_type": "execute_result"
    }
   ],
   "source": [
    "df[df_nan].isnull().sum()"
   ]
  },
  {
   "cell_type": "code",
   "execution_count": 82,
   "metadata": {},
   "outputs": [
    {
     "name": "stdout",
     "output_type": "stream",
     "text": [
      "LotFrontage:0.183% missing values\n",
      "MasVnrArea:0.006% missing values\n",
      "GarageYrBlt:0.055% missing values\n"
     ]
    }
   ],
   "source": [
    "## now checking for numerical variables that contains missing values\n",
    "df_Nnan = [i for i in df.columns if df[i].isnull().sum()>1 and df[i].dtypes!='object']\n",
    "for i in df_Nnan:\n",
    "    print(\"{}:{}% missing values\".format(i,np.round(df[i].isnull().mean(),3)))\n"
   ]
  },
  {
   "cell_type": "code",
   "execution_count": 83,
   "metadata": {},
   "outputs": [
    {
     "data": {
      "text/plain": [
       "LotFrontage    214\n",
       "MasVnrArea       7\n",
       "GarageYrBlt     64\n",
       "dtype: int64"
      ]
     },
     "execution_count": 83,
     "metadata": {},
     "output_type": "execute_result"
    }
   ],
   "source": [
    "df[df_Nnan].isnull().sum()"
   ]
  },
  {
   "cell_type": "code",
   "execution_count": 84,
   "metadata": {},
   "outputs": [],
   "source": [
    "for i in df_Nnan:\n",
    "    medianvalue = df[i].median()\n",
    "    df[i].fillna(medianvalue,inplace = True)"
   ]
  },
  {
   "cell_type": "code",
   "execution_count": 85,
   "metadata": {},
   "outputs": [
    {
     "data": {
      "text/plain": [
       "Id               0\n",
       "MSSubClass       0\n",
       "MSZoning         0\n",
       "LotFrontage      0\n",
       "LotArea          0\n",
       "Street           0\n",
       "Alley            0\n",
       "LotShape         0\n",
       "LandContour      0\n",
       "Utilities        0\n",
       "LotConfig        0\n",
       "LandSlope        0\n",
       "Neighborhood     0\n",
       "Condition1       0\n",
       "Condition2       0\n",
       "BldgType         0\n",
       "HouseStyle       0\n",
       "OverallQual      0\n",
       "OverallCond      0\n",
       "YearBuilt        0\n",
       "YearRemodAdd     0\n",
       "RoofStyle        0\n",
       "RoofMatl         0\n",
       "Exterior1st      0\n",
       "Exterior2nd      0\n",
       "MasVnrType       0\n",
       "MasVnrArea       0\n",
       "ExterQual        0\n",
       "ExterCond        0\n",
       "Foundation       0\n",
       "BsmtQual         0\n",
       "BsmtCond         0\n",
       "BsmtExposure     0\n",
       "BsmtFinType1     0\n",
       "BsmtFinSF1       0\n",
       "BsmtFinType2     0\n",
       "BsmtFinSF2       0\n",
       "BsmtUnfSF        0\n",
       "TotalBsmtSF      0\n",
       "Heating          0\n",
       "HeatingQC        0\n",
       "CentralAir       0\n",
       "Electrical       0\n",
       "1stFlrSF         0\n",
       "2ndFlrSF         0\n",
       "LowQualFinSF     0\n",
       "GrLivArea        0\n",
       "BsmtFullBath     0\n",
       "BsmtHalfBath     0\n",
       "FullBath         0\n",
       "HalfBath         0\n",
       "BedroomAbvGr     0\n",
       "KitchenAbvGr     0\n",
       "KitchenQual      0\n",
       "TotRmsAbvGrd     0\n",
       "Functional       0\n",
       "Fireplaces       0\n",
       "FireplaceQu      0\n",
       "GarageType       0\n",
       "GarageYrBlt      0\n",
       "GarageFinish     0\n",
       "GarageCars       0\n",
       "GarageArea       0\n",
       "GarageQual       0\n",
       "GarageCond       0\n",
       "PavedDrive       0\n",
       "WoodDeckSF       0\n",
       "OpenPorchSF      0\n",
       "EnclosedPorch    0\n",
       "3SsnPorch        0\n",
       "ScreenPorch      0\n",
       "PoolArea         0\n",
       "PoolQC           0\n",
       "Fence            0\n",
       "MiscFeature      0\n",
       "MiscVal          0\n",
       "MoSold           0\n",
       "YrSold           0\n",
       "SaleType         0\n",
       "SaleCondition    0\n",
       "SalePrice        0\n",
       "dtype: int64"
      ]
     },
     "execution_count": 85,
     "metadata": {},
     "output_type": "execute_result"
    }
   ],
   "source": [
    "df.isnull().sum()"
   ]
  },
  {
   "cell_type": "markdown",
   "metadata": {},
   "source": [
    "### EDA of test data\n"
   ]
  },
  {
   "cell_type": "code",
   "execution_count": 86,
   "metadata": {},
   "outputs": [],
   "source": [
    "df = categorical_nan(df,df_nan)"
   ]
  },
  {
   "cell_type": "code",
   "execution_count": 87,
   "metadata": {},
   "outputs": [
    {
     "data": {
      "text/plain": [
       "Id                 0\n",
       "MSSubClass         0\n",
       "MSZoning           0\n",
       "LotFrontage       45\n",
       "LotArea            0\n",
       "Street             0\n",
       "Alley            278\n",
       "LotShape           0\n",
       "LandContour        0\n",
       "Utilities          0\n",
       "LotConfig          0\n",
       "LandSlope          0\n",
       "Neighborhood       0\n",
       "Condition1         0\n",
       "Condition2         0\n",
       "BldgType           0\n",
       "HouseStyle         0\n",
       "OverallQual        0\n",
       "OverallCond        0\n",
       "YearBuilt          0\n",
       "YearRemodAdd       0\n",
       "RoofStyle          0\n",
       "RoofMatl           0\n",
       "Exterior1st        0\n",
       "Exterior2nd        0\n",
       "MasVnrType         1\n",
       "MasVnrArea         1\n",
       "ExterQual          0\n",
       "ExterCond          0\n",
       "Foundation         0\n",
       "BsmtQual           7\n",
       "BsmtCond           7\n",
       "BsmtExposure       7\n",
       "BsmtFinType1       7\n",
       "BsmtFinSF1         0\n",
       "BsmtFinType2       7\n",
       "BsmtFinSF2         0\n",
       "BsmtUnfSF          0\n",
       "TotalBsmtSF        0\n",
       "Heating            0\n",
       "HeatingQC          0\n",
       "CentralAir         0\n",
       "Electrical         1\n",
       "1stFlrSF           0\n",
       "2ndFlrSF           0\n",
       "LowQualFinSF       0\n",
       "GrLivArea          0\n",
       "BsmtFullBath       0\n",
       "BsmtHalfBath       0\n",
       "FullBath           0\n",
       "HalfBath           0\n",
       "BedroomAbvGr       0\n",
       "KitchenAbvGr       0\n",
       "KitchenQual        0\n",
       "TotRmsAbvGrd       0\n",
       "Functional         0\n",
       "Fireplaces         0\n",
       "FireplaceQu      139\n",
       "GarageType        17\n",
       "GarageYrBlt       17\n",
       "GarageFinish      17\n",
       "GarageCars         0\n",
       "GarageArea         0\n",
       "GarageQual        17\n",
       "GarageCond        17\n",
       "PavedDrive         0\n",
       "WoodDeckSF         0\n",
       "OpenPorchSF        0\n",
       "EnclosedPorch      0\n",
       "3SsnPorch          0\n",
       "ScreenPorch        0\n",
       "PoolArea           0\n",
       "PoolQC           292\n",
       "Fence            248\n",
       "MiscFeature      282\n",
       "MiscVal            0\n",
       "MoSold             0\n",
       "YrSold             0\n",
       "SaleType           0\n",
       "SaleCondition      0\n",
       "dtype: int64"
      ]
     },
     "execution_count": 87,
     "metadata": {},
     "output_type": "execute_result"
    }
   ],
   "source": [
    "df_test.isnull().sum()"
   ]
  },
  {
   "cell_type": "code",
   "execution_count": 88,
   "metadata": {},
   "outputs": [],
   "source": [
    "df_test = categorical_nan(df_test,df_nan)"
   ]
  },
  {
   "cell_type": "code",
   "execution_count": 89,
   "metadata": {},
   "outputs": [
    {
     "name": "stdout",
     "output_type": "stream",
     "text": [
      "LotFrontage:0.154% missing values\n",
      "GarageYrBlt:0.058% missing values\n"
     ]
    }
   ],
   "source": [
    "df_tNnan = [i for i in df_test.columns if df_test[i].isnull().sum()>1 and df_test[i].dtypes!='object']\n",
    "for i in df_tNnan:\n",
    "    print(\"{}:{}% missing values\".format(i,np.round(df_test[i].isnull().mean(),3)))"
   ]
  },
  {
   "cell_type": "code",
   "execution_count": 90,
   "metadata": {},
   "outputs": [],
   "source": [
    "for i in df_tNnan:\n",
    "    medianvalue = df_test[i].median()\n",
    "    df_test[i].fillna(medianvalue,inplace = True)"
   ]
  },
  {
   "cell_type": "code",
   "execution_count": 91,
   "metadata": {},
   "outputs": [],
   "source": [
    "for i in ['MasVnrArea','GarageYrBlt']:\n",
    "    df_test[i].replace(np.nan,0,inplace = True)"
   ]
  },
  {
   "cell_type": "code",
   "execution_count": 92,
   "metadata": {},
   "outputs": [
    {
     "name": "stdout",
     "output_type": "stream",
     "text": [
      "0    SBrkr\n",
      "dtype: object\n"
     ]
    }
   ],
   "source": [
    "print(df_test['Electrical'].mode())\n",
    "df_test['Electrical']=df_test['Electrical'].replace(np.nan,'SBrkr')\n"
   ]
  },
  {
   "cell_type": "code",
   "execution_count": 93,
   "metadata": {},
   "outputs": [
    {
     "data": {
      "text/plain": [
       "Id               0\n",
       "MSSubClass       0\n",
       "MSZoning         0\n",
       "LotFrontage      0\n",
       "LotArea          0\n",
       "Street           0\n",
       "Alley            0\n",
       "LotShape         0\n",
       "LandContour      0\n",
       "Utilities        0\n",
       "LotConfig        0\n",
       "LandSlope        0\n",
       "Neighborhood     0\n",
       "Condition1       0\n",
       "Condition2       0\n",
       "BldgType         0\n",
       "HouseStyle       0\n",
       "OverallQual      0\n",
       "OverallCond      0\n",
       "YearBuilt        0\n",
       "YearRemodAdd     0\n",
       "RoofStyle        0\n",
       "RoofMatl         0\n",
       "Exterior1st      0\n",
       "Exterior2nd      0\n",
       "MasVnrType       0\n",
       "MasVnrArea       0\n",
       "ExterQual        0\n",
       "ExterCond        0\n",
       "Foundation       0\n",
       "BsmtQual         0\n",
       "BsmtCond         0\n",
       "BsmtExposure     0\n",
       "BsmtFinType1     0\n",
       "BsmtFinSF1       0\n",
       "BsmtFinType2     0\n",
       "BsmtFinSF2       0\n",
       "BsmtUnfSF        0\n",
       "TotalBsmtSF      0\n",
       "Heating          0\n",
       "HeatingQC        0\n",
       "CentralAir       0\n",
       "Electrical       0\n",
       "1stFlrSF         0\n",
       "2ndFlrSF         0\n",
       "LowQualFinSF     0\n",
       "GrLivArea        0\n",
       "BsmtFullBath     0\n",
       "BsmtHalfBath     0\n",
       "FullBath         0\n",
       "HalfBath         0\n",
       "BedroomAbvGr     0\n",
       "KitchenAbvGr     0\n",
       "KitchenQual      0\n",
       "TotRmsAbvGrd     0\n",
       "Functional       0\n",
       "Fireplaces       0\n",
       "FireplaceQu      0\n",
       "GarageType       0\n",
       "GarageYrBlt      0\n",
       "GarageFinish     0\n",
       "GarageCars       0\n",
       "GarageArea       0\n",
       "GarageQual       0\n",
       "GarageCond       0\n",
       "PavedDrive       0\n",
       "WoodDeckSF       0\n",
       "OpenPorchSF      0\n",
       "EnclosedPorch    0\n",
       "3SsnPorch        0\n",
       "ScreenPorch      0\n",
       "PoolArea         0\n",
       "PoolQC           0\n",
       "Fence            0\n",
       "MiscFeature      0\n",
       "MiscVal          0\n",
       "MoSold           0\n",
       "YrSold           0\n",
       "SaleType         0\n",
       "SaleCondition    0\n",
       "dtype: int64"
      ]
     },
     "execution_count": 93,
     "metadata": {},
     "output_type": "execute_result"
    }
   ],
   "source": [
    "df_test.isnull().sum()"
   ]
  },
  {
   "cell_type": "code",
   "execution_count": 94,
   "metadata": {},
   "outputs": [
    {
     "data": {
      "image/png": "[encoded data removed]",
      "text/plain": [
       "<Figure size 1152x432 with 1 Axes>"
      ]
     },
     "metadata": {
      "needs_background": "light"
     },
     "output_type": "display_data"
    }
   ],
   "source": [
    "plt.figure(figsize=(16,6))\n",
    "plt.title(\"Type of dwelling vs Price with Zones\")\n",
    "sns.barplot(df['MSSubClass'],df['SalePrice'],hue=df['MSZoning'],palette='Accent')\n",
    "plt.show()"
   ]
  },
  {
   "cell_type": "markdown",
   "metadata": {},
   "source": [
    "Here, we can see varying pricing for different dwelling. We can say that the type has some influence on the sale price.\n",
    "\n",
    "The 2 story houses and 1 story planned units built in 1946 or later situated in a low density residential zone fetch a higher price.\n",
    "\n",
    "1 story and 2 story(built in 1946 or later) houses in floating village residential zone are extremely\n",
    "popular.\n",
    "\n",
    "Any type of dwelling in a residential medium density and high density zone is of average demand and sales.\n",
    "\n",
    "Commercial spaces especially the ones built on the year 1945 or before do not guarantee a good selling\n",
    "price.\n"
   ]
  },
  {
   "cell_type": "code",
   "execution_count": 95,
   "metadata": {},
   "outputs": [
    {
     "data": {
      "image/png": "[encoded data removed]",
      "text/plain": [
       "<Figure size 720x432 with 1 Axes>"
      ]
     },
     "metadata": {
      "needs_background": "light"
     },
     "output_type": "display_data"
    }
   ],
   "source": [
    "# Lot area and selling price\n",
    "plt.figure(figsize=(10,6))\n",
    "plt.title(\"lot area vs Price\")\n",
    "sns.lineplot(df['LotArea'],df['SalePrice'])\n",
    "plt.show()"
   ]
  },
  {
   "cell_type": "markdown",
   "metadata": {},
   "source": [
    "There is high fluctuation in price of most houuses (under 20000 feet), It does follow a slight\n",
    "increasing trend.\n",
    "\n",
    "Properties below the 20000 squre feet lot area with suitable environment have the best market."
   ]
  },
  {
   "cell_type": "code",
   "execution_count": 96,
   "metadata": {},
   "outputs": [
    {
     "data": {
      "text/plain": [
       "<function matplotlib.pyplot.show(*args, **kw)>"
      ]
     },
     "execution_count": 96,
     "metadata": {},
     "output_type": "execute_result"
    },
    {
     "data": {
      "image/png": "[encoded data removed]",
      "text/plain": [
       "<Figure size 1152x432 with 1 Axes>"
      ]
     },
     "metadata": {
      "needs_background": "light"
     },
     "output_type": "display_data"
    }
   ],
   "source": [
    "plt.figure(figsize=(16,6))\n",
    "plt.title(\"Neighborhood vs Price\")\n",
    "sns.barplot(df['Neighborhood'],df['SalePrice'],palette ='cubehelix')\n",
    "plt.xticks(rotation = 30)\n",
    "plt.show"
   ]
  },
  {
   "cell_type": "markdown",
   "metadata": {},
   "source": [
    "Northridge, Stone Brook and Northrige heights are  expensive neighbors with selling price above\n",
    "300000.\n",
    "\n",
    "Iowa Dot and rail road, Briardale and Meadow Villarge fetch low prices, hence expansion in theses places is not considered good."
   ]
  },
  {
   "cell_type": "code",
   "execution_count": 97,
   "metadata": {},
   "outputs": [
    {
     "data": {
      "image/png": "[encoded data removed]",
      "text/plain": [
       "<Figure size 864x432 with 1 Axes>"
      ]
     },
     "metadata": {
      "needs_background": "light"
     },
     "output_type": "display_data"
    }
   ],
   "source": [
    "# lot configaration and selling price\n",
    "plt.figure(figsize=(12,6))\n",
    "plt.title(\"Lot configaration vs Price with contour\")\n",
    "sns.barplot(df['LotConfig'],df['SalePrice'],hue=df['LandContour'],palette='rocket')\n",
    "plt.show()"
   ]
  },
  {
   "cell_type": "markdown",
   "metadata": {},
   "source": [
    "Cul de sac is the most popular lot especially in hillside areas.\n",
    "\n",
    "Corner and Inside lots also fetch good prices with any contour.\n",
    "\n",
    "Leveled lots correspond to a good sale in any configuration."
   ]
  },
  {
   "cell_type": "code",
   "execution_count": 98,
   "metadata": {},
   "outputs": [
    {
     "data": {
      "image/png": "[encoded data removed]",
      "text/plain": [
       "<Figure size 1080x432 with 1 Axes>"
      ]
     },
     "metadata": {
      "needs_background": "light"
     },
     "output_type": "display_data"
    }
   ],
   "source": [
    "# year built vs Price\n",
    "plt.figure(figsize=(15,6))\n",
    "plt.title(\"Year built vs Price\")\n",
    "sns.lineplot(df['YearBuilt'],df['SalePrice'])\n",
    "plt.show()"
   ]
  },
  {
   "cell_type": "markdown",
   "metadata": {},
   "source": [
    "As we can see newly built properties are sold for a higher price and the houses built earlier than 1940 and later 1900 maintain almost the same price"
   ]
  },
  {
   "cell_type": "code",
   "execution_count": 100,
   "metadata": {},
   "outputs": [
    {
     "data": {
      "image/png": "[encoded data removed]",
      "text/plain": [
       "<Figure size 576x360 with 1 Axes>"
      ]
     },
     "metadata": {
      "needs_background": "light"
     },
     "output_type": "display_data"
    }
   ],
   "source": [
    "# Functional\n",
    "\n",
    "plt.figure(figsize=(8,5))\n",
    "plt.title(\"Functional vs Price\")\n",
    "sns.barplot(df['Functional'],df['SalePrice'],palette='twilight')\n",
    "plt.show()"
   ]
  },
  {
   "cell_type": "markdown",
   "metadata": {},
   "source": [
    "Houses with typical functions are preferred as they gain 175000 and above. Entering the market with mojorly functional deducted houses 2 is not adviced"
   ]
  },
  {
   "cell_type": "code",
   "execution_count": 101,
   "metadata": {},
   "outputs": [
    {
     "data": {
      "image/png": "[encoded data removed]",
      "text/plain": [
       "<Figure size 576x360 with 1 Axes>"
      ]
     },
     "metadata": {
      "needs_background": "light"
     },
     "output_type": "display_data"
    }
   ],
   "source": [
    "# Overall Quality\n",
    "plt.figure(figsize=(8,5))\n",
    "plt.title(\"Overall quality vs Price\")\n",
    "sns.lineplot(df['OverallQual'],df['SalePrice'])\n",
    "plt.show()"
   ]
  },
  {
   "cell_type": "markdown",
   "metadata": {},
   "source": [
    "The price increases with the quality of the property.\n",
    "\n",
    "Houses with overall condition 5 and above have a good market."
   ]
  },
  {
   "cell_type": "code",
   "execution_count": 102,
   "metadata": {},
   "outputs": [
    {
     "data": {
      "image/png": "[encoded data removed]",
      "text/plain": [
       "<Figure size 576x360 with 1 Axes>"
      ]
     },
     "metadata": {
      "needs_background": "light"
     },
     "output_type": "display_data"
    }
   ],
   "source": [
    "# Garage area\n",
    "\n",
    "plt.figure(figsize =(8,5))\n",
    "plt.title(\"Garage area vs Price\")\n",
    "sns.lineplot(df['GarageArea'],df['SalePrice'])\n",
    "plt.show()"
   ]
  },
  {
   "cell_type": "markdown",
   "metadata": {},
   "source": [
    "The above the ground living area has high fluctuations, but still shows an increasing trend.\n",
    "\n",
    "The plot implies that greater the living area above grouns, higher will be the selling price."
   ]
  },
  {
   "cell_type": "code",
   "execution_count": 103,
   "metadata": {},
   "outputs": [
    {
     "data": {
      "image/png": "[encoded data removed]",
      "text/plain": [
       "<Figure size 576x360 with 1 Axes>"
      ]
     },
     "metadata": {
      "needs_background": "light"
     },
     "output_type": "display_data"
    }
   ],
   "source": [
    "# above ground living area \n",
    "plt.figure(figsize=(8,5))\n",
    "plt.title(\"Above ground area vs Price\")\n",
    "sns.lineplot(df['GrLivArea'],df['SalePrice'])\n",
    "plt.show()"
   ]
  },
  {
   "cell_type": "markdown",
   "metadata": {},
   "source": [
    "The garage area has high fluctuations, but still shows an increasing trend.\n",
    "\n",
    "The plot implies that greater the garage area, higher will be the selling price."
   ]
  },
  {
   "cell_type": "code",
   "execution_count": 15,
   "metadata": {},
   "outputs": [
    {
     "data": {
      "text/plain": [
       "Id              -0.023897\n",
       "MSSubClass      -0.060775\n",
       "LotFrontage      0.341294\n",
       "LotArea          0.249499\n",
       "OverallQual      0.789185\n",
       "OverallCond     -0.065642\n",
       "YearBuilt        0.514408\n",
       "YearRemodAdd     0.507831\n",
       "MasVnrArea       0.466386\n",
       "BsmtFinSF1       0.362874\n",
       "BsmtFinSF2      -0.010151\n",
       "BsmtUnfSF        0.215724\n",
       "TotalBsmtSF      0.595042\n",
       "1stFlrSF         0.587642\n",
       "2ndFlrSF         0.330386\n",
       "LowQualFinSF    -0.032381\n",
       "GrLivArea        0.707300\n",
       "BsmtFullBath     0.212924\n",
       "BsmtHalfBath    -0.011109\n",
       "FullBath         0.554988\n",
       "HalfBath         0.295592\n",
       "BedroomAbvGr     0.158281\n",
       "KitchenAbvGr    -0.132108\n",
       "TotRmsAbvGrd     0.528363\n",
       "Fireplaces       0.459611\n",
       "GarageYrBlt      0.474346\n",
       "GarageCars       0.628329\n",
       "GarageArea       0.619000\n",
       "WoodDeckSF       0.315444\n",
       "OpenPorchSF      0.339500\n",
       "EnclosedPorch   -0.115004\n",
       "3SsnPorch        0.060119\n",
       "ScreenPorch      0.100284\n",
       "PoolArea         0.103280\n",
       "MiscVal         -0.013071\n",
       "MoSold           0.072764\n",
       "YrSold          -0.045508\n",
       "SalePrice        1.000000\n",
       "dtype: float64"
      ]
     },
     "execution_count": 15,
     "metadata": {},
     "output_type": "execute_result"
    }
   ],
   "source": [
    "# Correlation of numerical feature with the target\n",
    "\n",
    "df.corrwith(df['SalePrice'])"
   ]
  },
  {
   "cell_type": "markdown",
   "metadata": {},
   "source": [
    "GrLivArea - above ground living area and overall quality has a high positive correlation with the target.\n",
    "\n",
    "It is followed by GarageArea and GarageCars with above 0.60. Next comes total basement area, total rooms above ground, year built and remdeled.\n",
    "\n",
    "The target does not show high negative correlation with any column."
   ]
  },
  {
   "cell_type": "code",
   "execution_count": 105,
   "metadata": {},
   "outputs": [],
   "source": [
    "import warnings \n",
    "warnings.filterwarnings('ignore')"
   ]
  },
  {
   "cell_type": "code",
   "execution_count": 107,
   "metadata": {},
   "outputs": [],
   "source": [
    "from sklearn import preprocessing\n",
    "label_encoder = preprocessing.LabelEncoder()\n",
    "\n",
    "df1 = df.drop('SalePrice',axis =1)\n",
    "df2 = df_test\n",
    "union = pd.concat([df1,df2])\n",
    "\n",
    "for i in df.columns:\n",
    "    if df[i].dtypes == object:\n",
    "        label_encoder.fit(union[[i]])\n",
    "        df[i] = label_encoder.transform(df[[i]])\n",
    "        df_teat[i] = label_encoder.transform(df_test[[i]])"
   ]
  },
  {
   "cell_type": "code",
   "execution_count": 110,
   "metadata": {},
   "outputs": [],
   "source": [
    "# importing necessary libraries\n",
    "\n",
    "from sklearn.model_selection import train_test_split\n",
    "from sklearn.feature_selection import SelectKBest\n",
    "from sklearn.feature_selection import f_classif\n",
    "from sklearn.metrics import r2_score, mean_absolute_error,mean_squared_error\n",
    "from sklearn.linear_model import Lasso, LinearRegression\n",
    "from sklearn.tree import DecisionTreeRegressor\n",
    "from sklearn.neighbors import KNeighborsRegressor\n"
   ]
  },
  {
   "cell_type": "code",
   "execution_count": 111,
   "metadata": {},
   "outputs": [],
   "source": [
    "from sklearn.model_selection import cross_val_score\n",
    "from sklearn.preprocessing import StandardScaler"
   ]
  },
  {
   "cell_type": "code",
   "execution_count": 112,
   "metadata": {},
   "outputs": [],
   "source": [
    "# Splitting into independent features and target in training set\n",
    "\n",
    "x = df.drop('SalePrice', axis =1)\n",
    "y = df[['SalePrice']]"
   ]
  },
  {
   "cell_type": "code",
   "execution_count": 114,
   "metadata": {},
   "outputs": [],
   "source": [
    "# Standard scaler\n",
    "\n",
    "sc = StandardScaler()\n",
    "x = sc.fit_transform(x)\n",
    "df_test = sc.transform(df_test)"
   ]
  },
  {
   "cell_type": "code",
   "execution_count": 117,
   "metadata": {},
   "outputs": [],
   "source": [
    "# Selectkbest with f test for feature selection\n",
    "\n",
    "fvalue_Best = SelectKBest(f_classif, k = 43)\n",
    "X_kbest = fvalue_Best.fit_transform(x, y)\n",
    "test_kbest = fvalue_Best.transform(df_test)"
   ]
  },
  {
   "cell_type": "code",
   "execution_count": 120,
   "metadata": {},
   "outputs": [],
   "source": [
    "x_train,x_test,y_train,y_test = train_test_split(X_kbest,y,test_size=0.20,random_state=0)"
   ]
  },
  {
   "cell_type": "code",
   "execution_count": 121,
   "metadata": {},
   "outputs": [
    {
     "data": {
      "text/plain": [
       "(934, 43)"
      ]
     },
     "execution_count": 121,
     "metadata": {},
     "output_type": "execute_result"
    }
   ],
   "source": [
    "x_train.shape"
   ]
  },
  {
   "cell_type": "code",
   "execution_count": 122,
   "metadata": {},
   "outputs": [
    {
     "data": {
      "text/plain": [
       "(234, 43)"
      ]
     },
     "execution_count": 122,
     "metadata": {},
     "output_type": "execute_result"
    }
   ],
   "source": [
    "x_test.shape"
   ]
  },
  {
   "cell_type": "code",
   "execution_count": 126,
   "metadata": {},
   "outputs": [],
   "source": [
    "import math"
   ]
  },
  {
   "cell_type": "code",
   "execution_count": 127,
   "metadata": {},
   "outputs": [
    {
     "name": "stdout",
     "output_type": "stream",
     "text": [
      "Lasso()\n",
      "fit score : 0.8094561099342965\n",
      "r2 score  0.8281323987310054\n",
      "mean absolute error:  21234.97141404438\n",
      "root mean squared error : 34547.15970364989\n",
      "\n",
      "\n",
      "LinearRegression()\n",
      "fit score : 0.8094561295429028\n",
      "r2 score  0.8281221681707509\n",
      "mean absolute error:  21234.724203890382\n",
      "root mean squared error : 34548.18791238983\n",
      "\n",
      "\n",
      "DecisionTreeRegressor()\n",
      "fit score : 1.0\n",
      "r2 score  0.6824945455920326\n",
      "mean absolute error:  30017.653846153848\n",
      "root mean squared error : 46955.982817653756\n",
      "\n",
      "\n",
      "KNeighborsRegressor()\n",
      "fit score : 0.8452288218043941\n",
      "r2 score  0.7620716747418328\n",
      "mean absolute error:  23328.84188034188\n",
      "root mean squared error : 40647.92809610539\n",
      "\n",
      "\n"
     ]
    }
   ],
   "source": [
    "# training with linear regression and lasso regularization\n",
    "model = [Lasso(),LinearRegression(),DecisionTreeRegressor(),KNeighborsRegressor()]\n",
    "\n",
    "for m in model:\n",
    "    m.fit(x_train,y_train)\n",
    "    print(m)\n",
    "    print(\"fit score :\", m.score(x_train,y_train))\n",
    "    predm = m.predict(x_test)\n",
    "    print(\"r2 score \",r2_score(y_test,predm))\n",
    "    print(\"mean absolute error: \", mean_absolute_error(y_test,predm))\n",
    "    print(\"root mean squared error :\",math.sqrt(mean_squared_error(y_test,predm)))\n",
    "    print(\"\\n\")"
   ]
  },
  {
   "cell_type": "markdown",
   "metadata": {},
   "source": [
    "The r2 score and root mean sqared error are almost same for both linear and Lasso. Lasso regularization will help in reducing the dimension(as the coefficient is made 0), we use gridsearch cv to tune the hyperparameters in Lasso"
   ]
  },
  {
   "cell_type": "code",
   "execution_count": 130,
   "metadata": {},
   "outputs": [
    {
     "data": {
      "text/plain": [
       "{'alpha': 5.0}"
      ]
     },
     "execution_count": 130,
     "metadata": {},
     "output_type": "execute_result"
    }
   ],
   "source": [
    "# Deciding alpha value\n",
    "\n",
    "from sklearn.model_selection import GridSearchCV\n",
    "\n",
    "alphas = np.array([5, 0.5, 0.005, 0.0005, 1, 0.1, 0.01, 0.001, 0.0001, 0])\n",
    "g = GridSearchCV(Lasso(),dict(alpha = alphas))\n",
    "g.fit(X_kbest,y)\n",
    "g.best_params_"
   ]
  },
  {
   "cell_type": "code",
   "execution_count": 132,
   "metadata": {},
   "outputs": [
    {
     "name": "stdout",
     "output_type": "stream",
     "text": [
      "Lasso(alpha=5)\n",
      "fit score : 0.8094556399871902\n",
      "r2 score : 0.8281726240538028\n",
      "mean absolute error:  21235.95949001859\n",
      "root mean squared error : 34543.116614776285\n",
      "Cross_val_score for Lasso(alpha=5) is 0.7619980245913897\n"
     ]
    }
   ],
   "source": [
    "lasso = Lasso(alpha = 5)\n",
    "lasso.fit(x_train,y_train)\n",
    "print(lasso)\n",
    "print(\"fit score :\",lasso.score(x_train,y_train))\n",
    "pred=lasso.predict(x_test)\n",
    "print(\"r2 score :\",r2_score(y_test,pred))\n",
    "print(\"mean absolute error: \",mean_absolute_error(y_test,pred))\n",
    "print(\"root mean squared error :\",math.sqrt(mean_squared_error(y_test,pred)))\n",
    "print(\"Cross_val_score for\",lasso,\"is\",cross_val_score(lasso,X_kbest,y,cv=5,scoring='r2').mean())"
   ]
  },
  {
   "cell_type": "code",
   "execution_count": 134,
   "metadata": {},
   "outputs": [
    {
     "name": "stdout",
     "output_type": "stream",
     "text": [
      "RandomForestRegressor()\n",
      "fit score : 0.9779574930457267\n",
      "r2 score : 0.8850515959133677\n",
      "mean absolute error:  17242.181495726494\n",
      "root mean squared error : 28253.145941824263\n",
      "Cross_val_score for Lasso(alpha=5) is 0.7619980245913897\n"
     ]
    }
   ],
   "source": [
    "from sklearn.ensemble import RandomForestRegressor\n",
    "rf = RandomForestRegressor()\n",
    "rf.fit(x_train,y_train)\n",
    "print(rf)\n",
    "print(\"fit score :\",rf.score(x_train,y_train))\n",
    "pred=rf.predict(x_test)\n",
    "print(\"r2 score :\",r2_score(y_test,pred))\n",
    "print(\"mean absolute error: \",mean_absolute_error(y_test,pred))\n",
    "print(\"root mean squared error :\",math.sqrt(mean_squared_error(y_test,pred)))\n",
    "print(\"Cross_val_score for\",lasso,\"is\",cross_val_score(lasso,X_kbest,y,cv=5,scoring='r2').mean())"
   ]
  },
  {
   "cell_type": "code",
   "execution_count": 135,
   "metadata": {},
   "outputs": [
    {
     "data": {
      "text/plain": [
       "{'max_depth': 8, 'n_estimators': 50, 'random_state': 32}"
      ]
     },
     "execution_count": 135,
     "metadata": {},
     "output_type": "execute_result"
    }
   ],
   "source": [
    "# hyperparameter tuning - random forest regressor\n",
    "\n",
    "parameter = {'n_estimators':[50,100],'max_depth':[2,4,6,8,10],'random_state':range(0,100)}\n",
    "gcv = GridSearchCV(rf,parameter)\n",
    "gcv.fit(X_kbest,y)\n",
    "gcv.best_params_"
   ]
  },
  {
   "cell_type": "markdown",
   "metadata": {},
   "source": [
    "We try ensemble algorithms and see whether we can come up with higher efficiency"
   ]
  },
  {
   "cell_type": "code",
   "execution_count": 136,
   "metadata": {},
   "outputs": [
    {
     "name": "stdout",
     "output_type": "stream",
     "text": [
      "RandomForestRegressor(max_depth=10, random_state=24)\n",
      "fit score : 0.9732504296392032\n",
      "r2 score : 0.8979683800146585\n",
      "mean absolute error:  17155.116295669257\n",
      "root mean squared error : 26618.448045034354\n",
      "Cross_val_score for Lasso(alpha=5) is 0.7619980245913897\n"
     ]
    }
   ],
   "source": [
    "# Random Forest afer hyperparameter tuning\n",
    "\n",
    "rf = RandomForestRegressor(max_depth =8, n_estimators = 50, random_state = 32)\n",
    "rf.fit(x_train,y_train)\n",
    "print(rf)\n",
    "print(\"fit score :\",rf.score(x_train,y_train))\n",
    "pred=rf.predict(x_test)\n",
    "print(\"r2 score :\",r2_score(y_test,pred))\n",
    "print(\"mean absolute error: \",mean_absolute_error(y_test,pred))\n",
    "print(\"root mean squared error :\",math.sqrt(mean_squared_error(y_test,pred)))\n",
    "print(\"Cross_val_score for\",lasso,\"is\",cross_val_score(lasso,X_kbest,y,cv=5,scoring='r2').mean())"
   ]
  },
  {
   "cell_type": "markdown",
   "metadata": {},
   "source": [
    "The random forest regressor is clearly working better than Lasso. The model is not overfitted"
   ]
  },
  {
   "cell_type": "code",
   "execution_count": 137,
   "metadata": {},
   "outputs": [
    {
     "data": {
      "text/plain": [
       "['rfhousing.pkl']"
      ]
     },
     "execution_count": 137,
     "metadata": {},
     "output_type": "execute_result"
    }
   ],
   "source": [
    "# saving the model\n",
    "import joblib\n",
    "joblib.dump(rf,'rfhousing.pkl')"
   ]
  },
  {
   "cell_type": "code",
   "execution_count": 138,
   "metadata": {},
   "outputs": [
    {
     "data": {
      "text/plain": [
       "RandomForestRegressor(max_depth=10, random_state=24)"
      ]
     },
     "execution_count": 138,
     "metadata": {},
     "output_type": "execute_result"
    }
   ],
   "source": [
    "# Loading the model\n",
    "\n",
    "joblib_model = joblib.load('housing_rf.pkl')\n",
    "joblib_model"
   ]
  },
  {
   "cell_type": "code",
   "execution_count": 139,
   "metadata": {},
   "outputs": [
    {
     "data": {
      "text/plain": [
       "array([499278.56      , 450691.27      , 468188.26      , 499565.08      ,\n",
       "       558412.76      , 415044.12      , 480255.64      , 494472.08      ,\n",
       "       507852.61      , 494472.08      , 451984.14      , 448496.99      ,\n",
       "       445105.88      , 478908.15      , 496749.46      , 497562.43      ,\n",
       "       421643.33      , 443732.62      , 554877.77      , 526664.21      ,\n",
       "       498254.12      , 481956.7       , 491840.4       , 459907.86928571,\n",
       "       441440.93      , 450691.27      , 518042.57      , 477221.02      ,\n",
       "       554877.77      , 445524.32      , 483951.77628571, 457544.2       ,\n",
       "       464766.37      , 480716.5       , 452199.14      , 526680.77      ,\n",
       "       564353.44      , 564958.74      , 508685.12      , 529517.16      ,\n",
       "       443732.62      , 554877.77      , 527848.91      , 457544.2       ,\n",
       "       443732.62      , 498420.23      , 450691.27      , 445271.99      ,\n",
       "       498296.88      , 499278.56      , 516686.37      , 462962.63      ,\n",
       "       495209.23      , 445271.99      , 556307.93      , 438397.34      ,\n",
       "       515183.47      , 518042.57      , 449173.89      , 489132.98      ,\n",
       "       504524.4       , 564353.44      , 441274.82      , 485182.59      ,\n",
       "       499946.88      , 507034.7       , 443683.98      , 464766.37      ,\n",
       "       443732.62      , 481336.29      , 554877.77      , 475571.02      ,\n",
       "       497066.3       , 553987.11      , 484935.09      , 527975.17      ,\n",
       "       565351.71      , 468902.57      , 499374.04      , 487529.25      ,\n",
       "       528200.59      , 499565.08      , 495695.7       , 478742.13      ,\n",
       "       558412.76      , 529052.33      , 462059.45      , 564353.44      ,\n",
       "       499565.08      , 527848.91      , 460997.59      , 467644.84      ,\n",
       "       495375.34      , 468986.6       , 554877.77      , 494472.08      ,\n",
       "       498296.88      , 558412.76      , 563839.16      , 443732.62      ,\n",
       "       558412.76      , 473109.58      , 445105.88      , 526680.77      ,\n",
       "       527848.91      , 433929.92      , 509666.8       , 490782.98      ,\n",
       "       546832.26      , 516874.43      , 455894.2       , 535587.72      ,\n",
       "       498918.63      , 529052.33      , 498752.52      , 495375.34      ,\n",
       "       441274.82      , 517997.33      , 450691.27      , 427932.21628571,\n",
       "       443980.12      , 495729.46      , 518981.1       , 506008.8       ,\n",
       "       499565.08      , 564353.44      , 441274.82      , 443683.98      ,\n",
       "       422685.91628571, 494316.3       , 446846.99      , 527975.17      ,\n",
       "       448496.99      , 564958.74      , 538346.94      , 499278.56      ,\n",
       "       498296.88      , 508558.86      , 526157.95      , 478122.34      ,\n",
       "       438778.11      , 564353.44      , 433398.76628571, 557289.61      ,\n",
       "       445939.96      , 517997.33      , 525861.24      , 498254.12      ,\n",
       "       427932.21628571, 558412.76      , 548307.09      , 450691.27      ,\n",
       "       527975.17      , 443732.62      , 420006.55923077, 527975.17      ,\n",
       "       481336.29      , 509312.79      , 443732.62      , 554877.77      ,\n",
       "       496749.46      , 450691.27      , 463116.37      , 478742.13      ,\n",
       "       472244.        , 499278.56      , 527975.17      , 558412.76      ,\n",
       "       443732.62      , 518042.57      , 444665.66      , 446846.99      ,\n",
       "       467644.84      , 489132.98      , 478742.13      , 566333.39      ,\n",
       "       495209.23      , 443732.62      , 527975.17      , 508685.12      ,\n",
       "       518042.57      , 464766.37      , 495099.46      , 517997.33      ,\n",
       "       495549.24      , 499278.56      , 534680.69      , 421643.33      ,\n",
       "       518042.57      , 535587.72      , 535587.72      , 497379.46      ,\n",
       "       501888.66      , 421643.33      , 495375.34      , 421643.33      ,\n",
       "       494472.08      , 499946.88      , 443732.62      , 555483.07      ,\n",
       "       485182.59      , 526858.02      , 564353.44      , 499278.56      ,\n",
       "       443732.62      , 484935.09      , 527848.91      , 479815.18      ,\n",
       "       515183.47      , 547061.13      , 425256.64      , 495375.34      ,\n",
       "       497347.09      , 497379.46      , 420006.55923077, 498075.5       ,\n",
       "       485182.59      , 475592.66      , 421643.33      , 460686.19      ,\n",
       "       554877.77      , 498296.88      , 496711.14      , 441274.82      ,\n",
       "       554877.77      , 499278.56      , 461979.27      , 505015.57      ,\n",
       "       500928.56      , 518042.57      , 498420.23      , 449784.24      ,\n",
       "       445524.32      , 441274.82      , 452199.14      , 463095.35      ,\n",
       "       527848.91      , 481120.47      , 463775.56      , 527975.17      ,\n",
       "       499946.88      , 482756.08      , 565430.6       , 498420.23      ,\n",
       "       441274.82      , 499278.56      , 491840.4       , 565430.6       ,\n",
       "       506867.9       , 515183.47      , 498296.88      , 517997.33      ,\n",
       "       516351.61      , 441440.93      , 546832.26      , 527975.17      ,\n",
       "       494316.3       , 501872.72      , 501888.66      , 442215.24      ,\n",
       "       527218.91      , 564353.44      , 452714.99      , 518228.36      ,\n",
       "       490782.98      , 555483.07      , 445271.99      , 468986.6       ,\n",
       "       499946.88      , 517997.33      , 491093.21628571, 443732.62      ,\n",
       "       500928.56      , 461366.4       , 493490.4       , 499946.88      ,\n",
       "       497379.46      , 516351.61      , 471123.35      , 565335.12      ,\n",
       "       450691.27      , 503522.72      , 478742.13      , 496677.38      ,\n",
       "       450906.15      , 443732.62      , 495695.7       , 499946.88      ,\n",
       "       443732.62      , 478742.13      , 517763.53      , 544984.5       ])"
      ]
     },
     "execution_count": 139,
     "metadata": {},
     "output_type": "execute_result"
    }
   ],
   "source": [
    "# predicting the target\n",
    "\n",
    "test_y = joblib_model.predict(test_kbest)\n",
    "test_y"
   ]
  },
  {
   "cell_type": "code",
   "execution_count": null,
   "metadata": {},
   "outputs": [],
   "source": []
  }
 ],
 "metadata": {
  "kernelspec": {
   "display_name": "Python 3",
   "language": "python",
   "name": "python3"
  },
  "language_info": {
   "codemirror_mode": {
    "name": "ipython",
    "version": 3
   },
   "file_extension": ".py",
   "mimetype": "text/x-python",
   "name": "python",
   "nbconvert_exporter": "python",
   "pygments_lexer": "ipython3",
   "version": "3.8.3"
  }
 },
 "nbformat": 4,
 "nbformat_minor": 4
}
